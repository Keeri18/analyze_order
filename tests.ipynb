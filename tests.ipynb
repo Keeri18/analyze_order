{
 "cells": [
  {
   "cell_type": "code",
   "execution_count": 2,
   "id": "8cbf3070",
   "metadata": {},
   "outputs": [
    {
     "name": "stderr",
     "output_type": "stream",
     "text": [
      "E\n",
      "======================================================================\n",
      "ERROR: C:\\Users\\Dell\\AppData\\Roaming\\jupyter\\runtime\\kernel-5fb5937e-77c6-4eea-ba20-06674c5c3800 (unittest.loader._FailedTest.C:\\Users\\Dell\\AppData\\Roaming\\jupyter\\runtime\\kernel-5fb5937e-77c6-4eea-ba20-06674c5c3800)\n",
      "----------------------------------------------------------------------\n",
      "AttributeError: module '__main__' has no attribute 'C:\\Users\\Dell\\AppData\\Roaming\\jupyter\\runtime\\kernel-5fb5937e-77c6-4eea-ba20-06674c5c3800'\n",
      "\n",
      "----------------------------------------------------------------------\n",
      "Ran 1 test in 0.001s\n",
      "\n",
      "FAILED (errors=1)\n"
     ]
    },
    {
     "ename": "SystemExit",
     "evalue": "True",
     "output_type": "error",
     "traceback": [
      "An exception has occurred, use %tb to see the full traceback.\n",
      "\u001b[1;31mSystemExit\u001b[0m\u001b[1;31m:\u001b[0m True\n"
     ]
    },
    {
     "name": "stderr",
     "output_type": "stream",
     "text": [
      "C:\\Users\\Dell\\anaconda3\\Lib\\site-packages\\IPython\\core\\interactiveshell.py:3534: UserWarning: To exit: use 'exit', 'quit', or Ctrl-D.\n",
      "  warn(\"To exit: use 'exit', 'quit', or Ctrl-D.\", stacklevel=1)\n"
     ]
    }
   ],
   "source": [
    "import unittest\n",
    "import pandas as pd\n",
    "from data_processing import (\n",
    "    compute_total_revenue_by_month,\n",
    "    compute_total_revenue_by_product,\n",
    "    compute_total_revenue_by_customer,\n",
    "    identify_top_10_customers,\n",
    ")\n",
    "\n",
    "class TestDataProcessing(unittest.TestCase):\n",
    "    def test_compute_total_revenue_by_month(self):\n",
    "        # Test if the function runs without errors\n",
    "        # You can create a sample DataFrame and call the function with it\n",
    "        data = pd.DataFrame({\n",
    "            'Order Date': pd.to_datetime(['2022-01-01', '2022-02-01', '2022-02-15']),\n",
    "            'Unit Price': [10, 20, 30]\n",
    "        })\n",
    "        result = compute_total_revenue_by_month(data)\n",
    "        expected_result = pd.Series([10, 50], name='Unit Price', dtype='float64', index=pd.PeriodIndex(['2022-01', '2022-02'], freq='M'))\n",
    "        pd.testing.assert_series_equal(result, expected_result)\n",
    "\n",
    "    # Add similar test methods for other functions\n",
    "\n",
    "if __name__ == '__main__':\n",
    "    unittest.main()"
   ]
  }
 ],
 "metadata": {
  "kernelspec": {
   "display_name": "Python 3 (ipykernel)",
   "language": "python",
   "name": "python3"
  },
  "language_info": {
   "codemirror_mode": {
    "name": "ipython",
    "version": 3
   },
   "file_extension": ".py",
   "mimetype": "text/x-python",
   "name": "python",
   "nbconvert_exporter": "python",
   "pygments_lexer": "ipython3",
   "version": "3.11.5"
  }
 },
 "nbformat": 4,
 "nbformat_minor": 5
}
